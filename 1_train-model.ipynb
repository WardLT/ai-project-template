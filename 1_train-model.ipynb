{
 "cells": [
  {
   "cell_type": "markdown",
   "id": "758206d1-9758-43b6-843d-480842526cc7",
   "metadata": {},
   "source": [
    "## Train a KNN model\n",
    "The purpose of this notebook is to create a machine learning model that predicts a species of iris given the shape of its petals.\n",
    "We are going to follow the [sklearn tutorial on this subject](https://scikit-learn.org/stable/auto_examples/svm/plot_iris_svc.html)"
   ]
  },
  {
   "cell_type": "code",
   "execution_count": 1,
   "id": "bc610c0d-9397-45e4-a833-de6681da088d",
   "metadata": {},
   "outputs": [],
   "source": [
    "%matplotlib inline\n",
    "from matplotlib import pyplot as plt\n",
    "from sklearn.model_selection import train_test_split\n",
    "from sklearn.metrics import ConfusionMatrixDisplay\n",
    "from sklearn import svm\n",
    "import pickle as pkl\n",
    "import pandas as pd\n",
    "import numpy as np"
   ]
  },
  {
   "cell_type": "markdown",
   "id": "45da9211-870d-4012-8299-8758096e80d9",
   "metadata": {},
   "source": [
    "## Load in the data\n",
    "We created a Pandas-friendly copy of the dataset in a previous notebook"
   ]
  },
  {
   "cell_type": "code",
   "execution_count": 2,
   "id": "4e110821-1855-40a7-841a-3fc55bf082b8",
   "metadata": {},
   "outputs": [
    {
     "name": "stdout",
     "output_type": "stream",
     "text": [
      "Loaded a dataset with 150 entries\n"
     ]
    }
   ],
   "source": [
    "data = pd.read_csv('data/clean/iris.csv')\n",
    "print(f'Loaded a dataset with {len(data)} entries')"
   ]
  },
  {
   "cell_type": "markdown",
   "id": "6627ee9e-03fe-4d69-a67d-8b978cb8de7d",
   "metadata": {},
   "source": [
    "## Train a model\n",
    "Let's train a SVM model using linear functions, nice and simple to demonstrate how it works."
   ]
  },
  {
   "cell_type": "code",
   "execution_count": 3,
   "id": "b207689e-e6a7-41a7-9e5a-a6fb8cdc9e9c",
   "metadata": {},
   "outputs": [
    {
     "data": {
      "text/plain": [
       "SVC(kernel='linear')"
      ]
     },
     "execution_count": 3,
     "metadata": {},
     "output_type": "execute_result"
    }
   ],
   "source": [
    "model = svm.SVC(kernel=\"linear\", C=1.0)\n",
    "model"
   ]
  },
  {
   "cell_type": "markdown",
   "id": "0ef1996d-78ef-4784-b2a1-c9dad6812fb7",
   "metadata": {},
   "source": [
    "Fit it on 75% of the data, test on the remainder. Use stratified splits so that "
   ]
  },
  {
   "cell_type": "code",
   "execution_count": 4,
   "id": "1b0fd5bf-55b5-44f6-b203-fa7d6226ae1c",
   "metadata": {},
   "outputs": [
    {
     "name": "stdout",
     "output_type": "stream",
     "text": [
      "Split data into 112 training points and 38 test.\n"
     ]
    }
   ],
   "source": [
    "train_data, test_data = train_test_split(data, test_size=0.25, stratify=data['class_id'])\n",
    "print(f'Split data into {len(train_data)} training points and {len(test_data)} test.')"
   ]
  },
  {
   "cell_type": "markdown",
   "id": "db5447b7-e5a5-4ce0-b0a9-1ed02d085293",
   "metadata": {},
   "source": [
    "Fit the model"
   ]
  },
  {
   "cell_type": "code",
   "execution_count": 5,
   "id": "94881f4e-0cbf-4250-8c24-499ce2e2456b",
   "metadata": {},
   "outputs": [
    {
     "data": {
      "text/plain": [
       "SVC(kernel='linear')"
      ]
     },
     "execution_count": 5,
     "metadata": {},
     "output_type": "execute_result"
    }
   ],
   "source": [
    "model.fit(train_data[['sepal_width', 'sepal_length']].values, train_data['class_id'])"
   ]
  },
  {
   "cell_type": "markdown",
   "id": "41027187-4fb6-4eab-b5c1-ae809ebf5cfa",
   "metadata": {},
   "source": [
    "We now have a trained model. Time to test it"
   ]
  },
  {
   "cell_type": "markdown",
   "id": "1200a83b-f1d6-4f20-a8d3-ca1be12da574",
   "metadata": {},
   "source": [
    "## Visualize the model performance\n",
    "I want to see two figures: one that shows me the predictions visually and another that gives me an idea of the performance.\n",
    "I'll use a plot of the test points and the model predictions as a function of the two inputs, and a confusion matrix."
   ]
  },
  {
   "cell_type": "code",
   "execution_count": 6,
   "id": "eb1cc0e9-a621-4766-a686-d4d36c6735a5",
   "metadata": {},
   "outputs": [
    {
     "data": {
      "image/png": "[encoded data removed]",
      "text/plain": [
       "<Figure size 252x252 with 1 Axes>"
      ]
     },
     "metadata": {
      "needs_background": "light"
     },
     "output_type": "display_data"
    }
   ],
   "source": [
    "fig, ax = plt.subplots(figsize=(3.5, 3.5))\n",
    "\n",
    "# Plot the points on the graph\n",
    "ax.scatter(test_data[\"sepal_width\"], test_data[\"sepal_length\"], c=test_data[\"class_id\"],\n",
    "           cmap=plt.cm.coolwarm, s=20, edgecolors=\"k\")\n",
    "ax.set_xlabel(\"Sepal width (cm)\")\n",
    "ax.set_ylabel(\"Sepal length (cm)\")\n",
    "\n",
    "# Plot the predictions as backdrop\n",
    "xx, yy = np.meshgrid(\n",
    "    np.linspace(*ax.get_xlim(), 64),\n",
    "    np.linspace(*ax.get_ylim(), 64)\n",
    ")\n",
    "coords = np.column_stack((xx.flatten(), yy.flatten()))\n",
    "ax.set_xlim(ax.get_xlim())\n",
    "ax.set_ylim(ax.get_ylim())\n",
    "pred = model.predict(coords)\n",
    "zz = np.reshape(pred, xx.shape)\n",
    "ax.contourf(xx, yy, zz, cmap=plt.cm.coolwarm, alpha=0.8, zorder=-1)\n",
    "\n",
    "fig.tight_layout()\n",
    "fig.savefig('figures/classification-plot.png', dpi=320)\n",
    "fig.savefig('figures/classification-plot.pdf', dpi=320)"
   ]
  },
  {
   "cell_type": "markdown",
   "id": "971e36a2-0939-472c-ac8c-30a5cb5e0a59",
   "metadata": {},
   "source": [
    "We can see that the model does a great job in separating the blue class, but is not as good with red and white."
   ]
  },
  {
   "cell_type": "code",
   "execution_count": 7,
   "id": "f35fc895-ad64-4a04-b299-384d83445bf0",
   "metadata": {},
   "outputs": [
    {
     "name": "stdout",
     "output_type": "stream",
     "text": [
      "Got 3 labels: ['setosa', 'versicolor', 'virginica']\n"
     ]
    }
   ],
   "source": [
    "# Get reasonable labels first\n",
    "labels = test_data.sort_values('class_id').drop_duplicates('class_id')['class'].tolist()\n",
    "labels = [x.split(\"-\")[1] for x in labels]\n",
    "print(f'Got {len(labels)} labels: {labels}')"
   ]
  },
  {
   "cell_type": "code",
   "execution_count": 10,
   "id": "6353d605-7bd6-4659-a1ee-9bb02183199d",
   "metadata": {},
   "outputs": [
    {
     "data": {
      "text/plain": [
       "<sklearn.metrics._plot.confusion_matrix.ConfusionMatrixDisplay at 0x1ffc6a489d0>"
      ]
     },
     "execution_count": 10,
     "metadata": {},
     "output_type": "execute_result"
    },
    {
     "data": {
      "image/png": "[encoded data removed]",
      "text/plain": [
       "<Figure size 252x252 with 1 Axes>"
      ]
     },
     "metadata": {
      "needs_background": "light"
     },
     "output_type": "display_data"
    }
   ],
   "source": [
    "fig, ax = plt.subplots(figsize=(3.5, 3.5))\n",
    "\n",
    "ConfusionMatrixDisplay.from_estimator(model, test_data[['sepal_width', 'sepal_length']].values, test_data['class_id'], \n",
    "                                      display_labels=labels, ax=ax, cmap='Blues', colorbar=False)"
   ]
  },
  {
   "cell_type": "markdown",
   "id": "f977bd45-c7f4-4981-82dc-77bac4195e85",
   "metadata": {},
   "source": [
    "Given this plot, we can indeed see that the misclassification is between only two classes and they are \"versicolor\" and \"virginica.\""
   ]
  },
  {
   "cell_type": "markdown",
   "id": "2f691521-05e4-481a-9d03-b1dd6268b463",
   "metadata": {},
   "source": [
    "## Save the model\n",
    "We're done training the model, so let's save it for later use. We'll use pickle, as that is [the preferred form for sklearn.](https://scikit-learn.org/stable/modules/model_persistence.html)"
   ]
  },
  {
   "cell_type": "code",
   "execution_count": 9,
   "id": "c1385552-afbb-405c-8f54-e84a44bf74f5",
   "metadata": {},
   "outputs": [],
   "source": [
    "with open('model.pkl', 'wb') as fp:\n",
    "    pkl.dump(model, fp)"
   ]
  },
  {
   "cell_type": "code",
   "execution_count": null,
   "id": "355ffd5b-56d3-4bc9-b43a-b758ee9dcdbe",
   "metadata": {},
   "outputs": [],
   "source": []
  }
 ],
 "metadata": {
  "kernelspec": {
   "display_name": "Python 3 (ipykernel)",
   "language": "python",
   "name": "python3"
  },
  "language_info": {
   "codemirror_mode": {
    "name": "ipython",
    "version": 3
   },
   "file_extension": ".py",
   "mimetype": "text/x-python",
   "name": "python",
   "nbconvert_exporter": "python",
   "pygments_lexer": "ipython3",
   "version": "3.10.0"
  }
 },
 "nbformat": 4,
 "nbformat_minor": 5
}
