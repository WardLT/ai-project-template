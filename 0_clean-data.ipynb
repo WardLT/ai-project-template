{
 "cells": [
  {
   "cell_type": "markdown",
   "id": "67570955-532f-4609-833d-859c70dc09ea",
   "metadata": {},
   "source": [
    "# Parse Data\n",
    "The Iris dataset from [UCI's MLR](https://archive.ics.uci.edu/ml/datasets/iris) is provide in a commna-delimited format without column names. \n",
    "Our task to make it machine usable is simple: add column names and convert it to a CSV format with a header"
   ]
  },
  {
   "cell_type": "code",
   "execution_count": 1,
   "id": "2d243b58-0cdf-472a-8d65-59d4bb161887",
   "metadata": {},
   "outputs": [],
   "source": [
    "import pandas as pd"
   ]
  },
  {
   "cell_type": "code",
   "execution_count": 2,
   "id": "89e60664-93e5-4d88-a569-8c162ce82f37",
   "metadata": {},
   "outputs": [],
   "source": [
    "data_path = 'data/raw/iris.data'"
   ]
  },
  {
   "cell_type": "markdown",
   "id": "c105566c-6c53-4281-b131-5b58d1c8c1df",
   "metadata": {},
   "source": [
    "## Load the data, apply column names\n",
    "We can load the data and provide column names all in one command"
   ]
  },
  {
   "cell_type": "markdown",
   "id": "279e414d-57f8-4a46-a51a-413a422da20b",
   "metadata": {},
   "source": [
    "Print the first three lines to show what the file looks like"
   ]
  },
  {
   "cell_type": "code",
   "execution_count": 3,
   "id": "a26206eb-eae2-4df3-bf35-a38fa6c778cf",
   "metadata": {},
   "outputs": [
    {
     "name": "stdout",
     "output_type": "stream",
     "text": [
      "5.1,3.5,1.4,0.2,Iris-setosa\n",
      "4.9,3.0,1.4,0.2,Iris-setosa\n",
      "4.7,3.2,1.3,0.2,Iris-setosa\n"
     ]
    }
   ],
   "source": [
    "with open(data_path) as fp:\n",
    "    print(\"\\n\".join(l.strip() for _, l in zip(range(3), fp)))"
   ]
  },
  {
   "cell_type": "markdown",
   "id": "663e64d5-a221-407b-a902-423382c690b8",
   "metadata": {},
   "source": [
    "As I claimed, the data has no header. Reading the data page at UCI MLR, the columns are:\n",
    "\n",
    "1. sepal length in cm\n",
    "2. sepal width in cm\n",
    "3. petal length in cm\n",
    "4. petal width in cm\n",
    "5. class"
   ]
  },
  {
   "cell_type": "code",
   "execution_count": 4,
   "id": "d0f52bc3-c213-4f6a-99c0-c5a755c502b0",
   "metadata": {},
   "outputs": [],
   "source": [
    "data = pd.read_csv('data/raw/iris.data', \n",
    "                   header=None,\n",
    "                  names=['sepal_length', 'sepal_width', 'petal_length', 'petal_width', 'class'])"
   ]
  },
  {
   "cell_type": "code",
   "execution_count": 5,
   "id": "ed637469-168b-40bd-83d9-0afcddd00f07",
   "metadata": {},
   "outputs": [
    {
     "data": {
      "text/html": [
       "<div>\n",
       "<style scoped>\n",
       "    .dataframe tbody tr th:only-of-type {\n",
       "        vertical-align: middle;\n",
       "    }\n",
       "\n",
       "    .dataframe tbody tr th {\n",
       "        vertical-align: top;\n",
       "    }\n",
       "\n",
       "    .dataframe thead th {\n",
       "        text-align: right;\n",
       "    }\n",
       "</style>\n",
       "<table border=\"1\" class=\"dataframe\">\n",
       "  <thead>\n",
       "    <tr style=\"text-align: right;\">\n",
       "      <th></th>\n",
       "      <th>sepal_length</th>\n",
       "      <th>sepal_width</th>\n",
       "      <th>petal_length</th>\n",
       "      <th>petal_width</th>\n",
       "      <th>class</th>\n",
       "    </tr>\n",
       "  </thead>\n",
       "  <tbody>\n",
       "    <tr>\n",
       "      <th>0</th>\n",
       "      <td>5.1</td>\n",
       "      <td>3.5</td>\n",
       "      <td>1.4</td>\n",
       "      <td>0.2</td>\n",
       "      <td>Iris-setosa</td>\n",
       "    </tr>\n",
       "    <tr>\n",
       "      <th>1</th>\n",
       "      <td>4.9</td>\n",
       "      <td>3.0</td>\n",
       "      <td>1.4</td>\n",
       "      <td>0.2</td>\n",
       "      <td>Iris-setosa</td>\n",
       "    </tr>\n",
       "  </tbody>\n",
       "</table>\n",
       "</div>"
      ],
      "text/plain": [
       "   sepal_length  sepal_width  petal_length  petal_width        class\n",
       "0           5.1          3.5           1.4          0.2  Iris-setosa\n",
       "1           4.9          3.0           1.4          0.2  Iris-setosa"
      ]
     },
     "execution_count": 5,
     "metadata": {},
     "output_type": "execute_result"
    }
   ],
   "source": [
    "data.head(2)"
   ]
  },
  {
   "cell_type": "markdown",
   "id": "77052c6f-a6fc-49dd-bf65-e244654214a7",
   "metadata": {},
   "source": [
    "You can see that we parsed the data correctly. The first row of the file is in the correct position."
   ]
  },
  {
   "cell_type": "markdown",
   "id": "eb6cf8e2-4be3-4d2c-9cae-9997f8880b6c",
   "metadata": {},
   "source": [
    "## Create a numerical version the class column\n",
    "Many machine learning models work only with numical data. \n",
    "Let's convert the \"class\" column into digits"
   ]
  },
  {
   "cell_type": "code",
   "execution_count": 6,
   "id": "c5b928fa-85a7-42eb-bf03-8a2c648fb3d2",
   "metadata": {},
   "outputs": [
    {
     "name": "stdout",
     "output_type": "stream",
     "text": [
      "Found 3 classes: ['Iris-setosa', 'Iris-versicolor', 'Iris-virginica']\n"
     ]
    }
   ],
   "source": [
    "classes = data['class'].value_counts().index.tolist()\n",
    "print(f'Found {len(classes)} classes: {classes}')"
   ]
  },
  {
   "cell_type": "markdown",
   "id": "c7b65246-19e7-4896-9505-574c14fbc2c8",
   "metadata": {},
   "source": [
    "Lookup the value for each label then store it in another column"
   ]
  },
  {
   "cell_type": "code",
   "execution_count": 7,
   "id": "06392ddb-12c5-459c-8679-104d5d94da6f",
   "metadata": {},
   "outputs": [],
   "source": [
    "data['class_id'] = data['class'].apply(classes.index)"
   ]
  },
  {
   "cell_type": "code",
   "execution_count": 8,
   "id": "bd268402-0ac9-4ef1-83d4-537cd347b5e1",
   "metadata": {},
   "outputs": [
    {
     "data": {
      "text/html": [
       "<div>\n",
       "<style scoped>\n",
       "    .dataframe tbody tr th:only-of-type {\n",
       "        vertical-align: middle;\n",
       "    }\n",
       "\n",
       "    .dataframe tbody tr th {\n",
       "        vertical-align: top;\n",
       "    }\n",
       "\n",
       "    .dataframe thead th {\n",
       "        text-align: right;\n",
       "    }\n",
       "</style>\n",
       "<table border=\"1\" class=\"dataframe\">\n",
       "  <thead>\n",
       "    <tr style=\"text-align: right;\">\n",
       "      <th></th>\n",
       "      <th>sepal_length</th>\n",
       "      <th>sepal_width</th>\n",
       "      <th>petal_length</th>\n",
       "      <th>petal_width</th>\n",
       "      <th>class</th>\n",
       "      <th>class_id</th>\n",
       "    </tr>\n",
       "  </thead>\n",
       "  <tbody>\n",
       "    <tr>\n",
       "      <th>0</th>\n",
       "      <td>5.1</td>\n",
       "      <td>3.5</td>\n",
       "      <td>1.4</td>\n",
       "      <td>0.2</td>\n",
       "      <td>Iris-setosa</td>\n",
       "      <td>0</td>\n",
       "    </tr>\n",
       "    <tr>\n",
       "      <th>50</th>\n",
       "      <td>7.0</td>\n",
       "      <td>3.2</td>\n",
       "      <td>4.7</td>\n",
       "      <td>1.4</td>\n",
       "      <td>Iris-versicolor</td>\n",
       "      <td>1</td>\n",
       "    </tr>\n",
       "    <tr>\n",
       "      <th>100</th>\n",
       "      <td>6.3</td>\n",
       "      <td>3.3</td>\n",
       "      <td>6.0</td>\n",
       "      <td>2.5</td>\n",
       "      <td>Iris-virginica</td>\n",
       "      <td>2</td>\n",
       "    </tr>\n",
       "  </tbody>\n",
       "</table>\n",
       "</div>"
      ],
      "text/plain": [
       "     sepal_length  sepal_width  petal_length  petal_width            class  \\\n",
       "0             5.1          3.5           1.4          0.2      Iris-setosa   \n",
       "50            7.0          3.2           4.7          1.4  Iris-versicolor   \n",
       "100           6.3          3.3           6.0          2.5   Iris-virginica   \n",
       "\n",
       "     class_id  \n",
       "0           0  \n",
       "50          1  \n",
       "100         2  "
      ]
     },
     "execution_count": 8,
     "metadata": {},
     "output_type": "execute_result"
    }
   ],
   "source": [
    "data.drop_duplicates(['class', 'class_id'])"
   ]
  },
  {
   "cell_type": "markdown",
   "id": "fb4608cf-70b3-472f-b1d6-94a6d51ff723",
   "metadata": {},
   "source": [
    "Alright! We've now got a unique numerical value for the class."
   ]
  },
  {
   "cell_type": "markdown",
   "id": "04885206-917d-4408-9eb9-6e52e0fd01c3",
   "metadata": {},
   "source": [
    "## Save the data\n",
    "CSV would be a good choice, as most programs read it."
   ]
  },
  {
   "cell_type": "code",
   "execution_count": 9,
   "id": "adc88578-7f30-4231-974a-556dec9287e0",
   "metadata": {},
   "outputs": [],
   "source": [
    "data.to_csv('data/clean/iris.csv', index=False)  # No index, as it's not meaningful here"
   ]
  },
  {
   "cell_type": "code",
   "execution_count": null,
   "id": "19748206-f7e7-4acf-8f53-c6071a969e62",
   "metadata": {},
   "outputs": [],
   "source": []
  }
 ],
 "metadata": {
  "kernelspec": {
   "display_name": "Python 3 (ipykernel)",
   "language": "python",
   "name": "python3"
  },
  "language_info": {
   "codemirror_mode": {
    "name": "ipython",
    "version": 3
   },
   "file_extension": ".py",
   "mimetype": "text/x-python",
   "name": "python",
   "nbconvert_exporter": "python",
   "pygments_lexer": "ipython3",
   "version": "3.10.0"
  }
 },
 "nbformat": 4,
 "nbformat_minor": 5
}
